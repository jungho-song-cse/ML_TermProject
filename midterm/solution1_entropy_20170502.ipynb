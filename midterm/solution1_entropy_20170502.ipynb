{
 "cells": [
  {
   "cell_type": "code",
   "execution_count": 1,
   "metadata": {},
   "outputs": [],
   "source": [
    "# !pip install pandas seaborn scipy numpy matplotlib"
   ]
  },
  {
   "cell_type": "code",
   "execution_count": 2,
   "metadata": {},
   "outputs": [],
   "source": [
    "import pandas as pd\n",
    "import seaborn as sns\n",
    "from scipy.stats import multinomial\n",
    "import matplotlib.pyplot as plt\n",
    "import numpy as np\n"
   ]
  },
  {
   "attachments": {},
   "cell_type": "markdown",
   "metadata": {},
   "source": [
    "## 1. Read Train Data"
   ]
  },
  {
   "cell_type": "code",
   "execution_count": 3,
   "metadata": {},
   "outputs": [
    {
     "data": {
      "text/html": [
       "<div>\n",
       "<style scoped>\n",
       "    .dataframe tbody tr th:only-of-type {\n",
       "        vertical-align: middle;\n",
       "    }\n",
       "\n",
       "    .dataframe tbody tr th {\n",
       "        vertical-align: top;\n",
       "    }\n",
       "\n",
       "    .dataframe thead th {\n",
       "        text-align: right;\n",
       "    }\n",
       "</style>\n",
       "<table border=\"1\" class=\"dataframe\">\n",
       "  <thead>\n",
       "    <tr style=\"text-align: right;\">\n",
       "      <th></th>\n",
       "      <th>QuestionId</th>\n",
       "      <th>UserId</th>\n",
       "      <th>AnswerId</th>\n",
       "      <th>IsCorrect</th>\n",
       "      <th>CorrectAnswer</th>\n",
       "      <th>AnswerValue</th>\n",
       "    </tr>\n",
       "  </thead>\n",
       "  <tbody>\n",
       "    <tr>\n",
       "      <th>0</th>\n",
       "      <td>898</td>\n",
       "      <td>2111</td>\n",
       "      <td>280203</td>\n",
       "      <td>1</td>\n",
       "      <td>2</td>\n",
       "      <td>2</td>\n",
       "    </tr>\n",
       "    <tr>\n",
       "      <th>1</th>\n",
       "      <td>767</td>\n",
       "      <td>3062</td>\n",
       "      <td>55638</td>\n",
       "      <td>1</td>\n",
       "      <td>3</td>\n",
       "      <td>3</td>\n",
       "    </tr>\n",
       "    <tr>\n",
       "      <th>2</th>\n",
       "      <td>165</td>\n",
       "      <td>1156</td>\n",
       "      <td>386475</td>\n",
       "      <td>1</td>\n",
       "      <td>2</td>\n",
       "      <td>2</td>\n",
       "    </tr>\n",
       "    <tr>\n",
       "      <th>3</th>\n",
       "      <td>490</td>\n",
       "      <td>1653</td>\n",
       "      <td>997498</td>\n",
       "      <td>1</td>\n",
       "      <td>4</td>\n",
       "      <td>4</td>\n",
       "    </tr>\n",
       "    <tr>\n",
       "      <th>4</th>\n",
       "      <td>298</td>\n",
       "      <td>3912</td>\n",
       "      <td>578636</td>\n",
       "      <td>1</td>\n",
       "      <td>3</td>\n",
       "      <td>3</td>\n",
       "    </tr>\n",
       "    <tr>\n",
       "      <th>...</th>\n",
       "      <td>...</td>\n",
       "      <td>...</td>\n",
       "      <td>...</td>\n",
       "      <td>...</td>\n",
       "      <td>...</td>\n",
       "      <td>...</td>\n",
       "    </tr>\n",
       "    <tr>\n",
       "      <th>1382722</th>\n",
       "      <td>80</td>\n",
       "      <td>2608</td>\n",
       "      <td>57945</td>\n",
       "      <td>1</td>\n",
       "      <td>2</td>\n",
       "      <td>2</td>\n",
       "    </tr>\n",
       "    <tr>\n",
       "      <th>1382723</th>\n",
       "      <td>707</td>\n",
       "      <td>2549</td>\n",
       "      <td>584230</td>\n",
       "      <td>0</td>\n",
       "      <td>2</td>\n",
       "      <td>1</td>\n",
       "    </tr>\n",
       "    <tr>\n",
       "      <th>1382724</th>\n",
       "      <td>840</td>\n",
       "      <td>5901</td>\n",
       "      <td>1138956</td>\n",
       "      <td>1</td>\n",
       "      <td>1</td>\n",
       "      <td>1</td>\n",
       "    </tr>\n",
       "    <tr>\n",
       "      <th>1382725</th>\n",
       "      <td>794</td>\n",
       "      <td>3854</td>\n",
       "      <td>1151183</td>\n",
       "      <td>0</td>\n",
       "      <td>1</td>\n",
       "      <td>3</td>\n",
       "    </tr>\n",
       "    <tr>\n",
       "      <th>1382726</th>\n",
       "      <td>157</td>\n",
       "      <td>3184</td>\n",
       "      <td>1321883</td>\n",
       "      <td>1</td>\n",
       "      <td>3</td>\n",
       "      <td>3</td>\n",
       "    </tr>\n",
       "  </tbody>\n",
       "</table>\n",
       "<p>1382727 rows × 6 columns</p>\n",
       "</div>"
      ],
      "text/plain": [
       "         QuestionId  UserId  AnswerId  IsCorrect  CorrectAnswer  AnswerValue\n",
       "0               898    2111    280203          1              2            2\n",
       "1               767    3062     55638          1              3            3\n",
       "2               165    1156    386475          1              2            2\n",
       "3               490    1653    997498          1              4            4\n",
       "4               298    3912    578636          1              3            3\n",
       "...             ...     ...       ...        ...            ...          ...\n",
       "1382722          80    2608     57945          1              2            2\n",
       "1382723         707    2549    584230          0              2            1\n",
       "1382724         840    5901   1138956          1              1            1\n",
       "1382725         794    3854   1151183          0              1            3\n",
       "1382726         157    3184   1321883          1              3            3\n",
       "\n",
       "[1382727 rows x 6 columns]"
      ]
     },
     "execution_count": 3,
     "metadata": {},
     "output_type": "execute_result"
    }
   ],
   "source": [
    "df = pd.read_csv('./data/train_data/train_task_3_4.csv')\n",
    "df"
   ]
  },
  {
   "cell_type": "code",
   "execution_count": 4,
   "metadata": {},
   "outputs": [
    {
     "data": {
      "text/plain": [
       "948"
      ]
     },
     "execution_count": 4,
     "metadata": {},
     "output_type": "execute_result"
    }
   ],
   "source": [
    "# check pure unique questions num\n",
    "qNum = len(df['QuestionId'].unique())\n",
    "qNum"
   ]
  },
  {
   "attachments": {},
   "cell_type": "markdown",
   "metadata": {},
   "source": [
    "## 2. Calculate selectivity by multinomial entropy of normalized values of AnswerValue"
   ]
  },
  {
   "cell_type": "code",
   "execution_count": 5,
   "metadata": {},
   "outputs": [
    {
     "name": "stdout",
     "output_type": "stream",
     "text": [
      "0      1.194456\n",
      "1      0.876006\n",
      "2      1.331663\n",
      "3      0.695423\n",
      "4      1.324321\n",
      "         ...   \n",
      "943    0.958544\n",
      "944    1.312404\n",
      "945    1.260934\n",
      "946    1.236733\n",
      "947    1.082614\n",
      "Name: AnswerValue, Length: 948, dtype: float64\n"
     ]
    }
   ],
   "source": [
    "# if selection entropy is close to 0, it means bad distribution(selectivity) of given possible answers\n",
    "answerValue_value = df.groupby('QuestionId')['AnswerValue'].value_counts(normalize=True)\n",
    "\n",
    "answerValue_value_list=[]\n",
    "index=[]\n",
    "\n",
    "for i in range(0,qNum):\n",
    "    index.append(i)\n",
    "    answerValue_value_list.append(multinomial.entropy(1,answerValue_value[i]))\n",
    "\n",
    "answerValue_entropies = pd.Series(answerValue_value_list, index=index, dtype=float, name='AnswerValue')\n",
    "print(answerValue_entropies)"
   ]
  },
  {
   "cell_type": "code",
   "execution_count": 6,
   "metadata": {},
   "outputs": [
    {
     "data": {
      "text/plain": [
       "<Axes: xlabel='AnswerValue', ylabel='Count'>"
      ]
     },
     "execution_count": 6,
     "metadata": {},
     "output_type": "execute_result"
    },
    {
     "data": {
      "image/png": "[encoded data removed]",
      "text/plain": [
       "<Figure size 640x480 with 1 Axes>"
      ]
     },
     "metadata": {},
     "output_type": "display_data"
    }
   ],
   "source": [
    "sns.histplot(answerValue_entropies)"
   ]
  },
  {
   "attachments": {},
   "cell_type": "markdown",
   "metadata": {},
   "source": [
    "## 3. Calculate Correct answer rate by multinomial entropy of normalized values of IsCorrect"
   ]
  },
  {
   "cell_type": "code",
   "execution_count": 7,
   "metadata": {},
   "outputs": [
    {
     "name": "stdout",
     "output_type": "stream",
     "text": [
      "0      0.686739\n",
      "1      0.682908\n",
      "2      0.666559\n",
      "3      0.488020\n",
      "4      0.673579\n",
      "         ...   \n",
      "943    0.684269\n",
      "944    0.410116\n",
      "945    0.681035\n",
      "946    0.689856\n",
      "947    0.665454\n",
      "Name: IsCorrect, Length: 948, dtype: float64\n"
     ]
    }
   ],
   "source": [
    "# if correctness entropy is close to 0, it means good correct answer rate.\n",
    "isCorrect_value = df.groupby('QuestionId')['IsCorrect'].value_counts(normalize=True)\n",
    "\n",
    "isCorrect_value_list=[]\n",
    "index=[]\n",
    "\n",
    "for i in range(0,qNum):\n",
    "    index.append(i)\n",
    "    isCorrect_value_list.append(multinomial.entropy(1,isCorrect_value[i]))\n",
    "\n",
    "isCorrect_entropies = pd.Series(isCorrect_value_list, index=index, dtype=float, name='IsCorrect')\n",
    "print(isCorrect_entropies)"
   ]
  },
  {
   "cell_type": "code",
   "execution_count": 8,
   "metadata": {},
   "outputs": [
    {
     "data": {
      "text/plain": [
       "<Axes: xlabel='IsCorrect', ylabel='Count'>"
      ]
     },
     "execution_count": 8,
     "metadata": {},
     "output_type": "execute_result"
    },
    {
     "data": {
      "image/png": "[encoded data removed]",
      "text/plain": [
       "<Figure size 640x480 with 1 Axes>"
      ]
     },
     "metadata": {},
     "output_type": "display_data"
    }
   ],
   "source": [
    "sns.histplot(isCorrect_entropies)"
   ]
  },
  {
   "attachments": {},
   "cell_type": "markdown",
   "metadata": {},
   "source": [
    "## 4. Calculate Difficulty of question by IsCorrect-UserCorrectRate(each user's correct rate)"
   ]
  },
  {
   "cell_type": "code",
   "execution_count": 9,
   "metadata": {},
   "outputs": [
    {
     "name": "stdout",
     "output_type": "stream",
     "text": [
      "            IsCorrect  UserCorrectRate  Difficulty\n",
      "QuestionId                                        \n",
      "0            0.443457         0.546170    0.102713\n",
      "1            0.571429         0.624563    0.053134\n",
      "2            0.385214         0.531535    0.146321\n",
      "3            0.808757         0.541171    0.267586\n",
      "4            0.401408         0.539470    0.138062\n",
      "...               ...              ...         ...\n",
      "943          0.566528         0.551607    0.014922\n",
      "944          0.142857         0.503133    0.360276\n",
      "945          0.422336         0.531902    0.109565\n",
      "946          0.459459         0.479293    0.019833\n",
      "947          0.617124         0.519867    0.097257\n",
      "\n",
      "[948 rows x 3 columns]\n",
      "QuestionId\n",
      "0      0.102713\n",
      "1      0.053134\n",
      "2      0.146321\n",
      "3      0.267586\n",
      "4      0.138062\n",
      "         ...   \n",
      "943    0.014922\n",
      "944    0.360276\n",
      "945    0.109565\n",
      "946    0.019833\n",
      "947    0.097257\n",
      "Name: Difficulty, Length: 948, dtype: float64\n"
     ]
    }
   ],
   "source": [
    "# get score of each users\n",
    "userCorrectRate = df.groupby('UserId')['IsCorrect'].mean()\n",
    "df['UserCorrectRate'] = df['UserId'].map(userCorrectRate) # map userCorrectRate with userid, get correct rate of each user!\n",
    "\n",
    "# get question difficulty\n",
    "difficulty_df = df.groupby(['QuestionId']).agg({'IsCorrect': 'mean', 'UserCorrectRate': 'mean'})\n",
    "difficulty_df['Difficulty'] = abs(difficulty_df['IsCorrect'] - difficulty_df['UserCorrectRate'])\n",
    "difficulty_df = difficulty_df.sort_index()\n",
    "print(difficulty_df)\n",
    "print(difficulty_df.iloc[:,2])\n",
    "difficulty = difficulty_df.iloc[:,2]"
   ]
  },
  {
   "cell_type": "code",
   "execution_count": 10,
   "metadata": {},
   "outputs": [
    {
     "data": {
      "text/plain": [
       "<Axes: xlabel='Difficulty', ylabel='Count'>"
      ]
     },
     "execution_count": 10,
     "metadata": {},
     "output_type": "execute_result"
    },
    {
     "data": {
      "image/png": "[encoded data removed]",
      "text/plain": [
       "<Figure size 640x480 with 1 Axes>"
      ]
     },
     "metadata": {},
     "output_type": "display_data"
    }
   ],
   "source": [
    "sns.histplot(difficulty)"
   ]
  },
  {
   "attachments": {},
   "cell_type": "markdown",
   "metadata": {},
   "source": [
    "## 5. Show calcuated rank by each features"
   ]
  },
  {
   "cell_type": "code",
   "execution_count": 11,
   "metadata": {},
   "outputs": [
    {
     "data": {
      "text/html": [
       "<div>\n",
       "<style scoped>\n",
       "    .dataframe tbody tr th:only-of-type {\n",
       "        vertical-align: middle;\n",
       "    }\n",
       "\n",
       "    .dataframe tbody tr th {\n",
       "        vertical-align: top;\n",
       "    }\n",
       "\n",
       "    .dataframe thead th {\n",
       "        text-align: right;\n",
       "    }\n",
       "</style>\n",
       "<table border=\"1\" class=\"dataframe\">\n",
       "  <thead>\n",
       "    <tr style=\"text-align: right;\">\n",
       "      <th></th>\n",
       "      <th>Selectivity_Rank</th>\n",
       "      <th>CorrectRate_Rank</th>\n",
       "      <th>Difficulty_Rank</th>\n",
       "      <th>Selectivity+CorrectRate_Rank</th>\n",
       "      <th>Selectivity+CorrectRate+Difficulty_Rank</th>\n",
       "    </tr>\n",
       "  </thead>\n",
       "  <tbody>\n",
       "    <tr>\n",
       "      <th>0</th>\n",
       "      <td>484</td>\n",
       "      <td>247</td>\n",
       "      <td>527</td>\n",
       "      <td>391</td>\n",
       "      <td>394</td>\n",
       "    </tr>\n",
       "    <tr>\n",
       "      <th>1</th>\n",
       "      <td>844</td>\n",
       "      <td>293</td>\n",
       "      <td>710</td>\n",
       "      <td>672</td>\n",
       "      <td>809</td>\n",
       "    </tr>\n",
       "    <tr>\n",
       "      <th>2</th>\n",
       "      <td>124</td>\n",
       "      <td>481</td>\n",
       "      <td>357</td>\n",
       "      <td>230</td>\n",
       "      <td>82</td>\n",
       "    </tr>\n",
       "    <tr>\n",
       "      <th>3</th>\n",
       "      <td>908</td>\n",
       "      <td>915</td>\n",
       "      <td>64</td>\n",
       "      <td>919</td>\n",
       "      <td>870</td>\n",
       "    </tr>\n",
       "    <tr>\n",
       "      <th>4</th>\n",
       "      <td>150</td>\n",
       "      <td>405</td>\n",
       "      <td>389</td>\n",
       "      <td>160</td>\n",
       "      <td>64</td>\n",
       "    </tr>\n",
       "    <tr>\n",
       "      <th>...</th>\n",
       "      <td>...</td>\n",
       "      <td>...</td>\n",
       "      <td>...</td>\n",
       "      <td>...</td>\n",
       "      <td>...</td>\n",
       "    </tr>\n",
       "    <tr>\n",
       "      <th>943</th>\n",
       "      <td>780</td>\n",
       "      <td>274</td>\n",
       "      <td>891</td>\n",
       "      <td>636</td>\n",
       "      <td>945</td>\n",
       "    </tr>\n",
       "    <tr>\n",
       "      <th>944</th>\n",
       "      <td>188</td>\n",
       "      <td>938</td>\n",
       "      <td>7</td>\n",
       "      <td>669</td>\n",
       "      <td>264</td>\n",
       "    </tr>\n",
       "    <tr>\n",
       "      <th>945</th>\n",
       "      <td>331</td>\n",
       "      <td>324</td>\n",
       "      <td>492</td>\n",
       "      <td>296</td>\n",
       "      <td>276</td>\n",
       "    </tr>\n",
       "    <tr>\n",
       "      <th>946</th>\n",
       "      <td>397</td>\n",
       "      <td>178</td>\n",
       "      <td>869</td>\n",
       "      <td>185</td>\n",
       "      <td>504</td>\n",
       "    </tr>\n",
       "    <tr>\n",
       "      <th>947</th>\n",
       "      <td>643</td>\n",
       "      <td>489</td>\n",
       "      <td>546</td>\n",
       "      <td>671</td>\n",
       "      <td>631</td>\n",
       "    </tr>\n",
       "  </tbody>\n",
       "</table>\n",
       "<p>948 rows × 5 columns</p>\n",
       "</div>"
      ],
      "text/plain": [
       "     Selectivity_Rank  CorrectRate_Rank  Difficulty_Rank   \n",
       "0                 484               247              527  \\\n",
       "1                 844               293              710   \n",
       "2                 124               481              357   \n",
       "3                 908               915               64   \n",
       "4                 150               405              389   \n",
       "..                ...               ...              ...   \n",
       "943               780               274              891   \n",
       "944               188               938                7   \n",
       "945               331               324              492   \n",
       "946               397               178              869   \n",
       "947               643               489              546   \n",
       "\n",
       "     Selectivity+CorrectRate_Rank  Selectivity+CorrectRate+Difficulty_Rank  \n",
       "0                             391                                      394  \n",
       "1                             672                                      809  \n",
       "2                             230                                       82  \n",
       "3                             919                                      870  \n",
       "4                             160                                       64  \n",
       "..                            ...                                      ...  \n",
       "943                           636                                      945  \n",
       "944                           669                                      264  \n",
       "945                           296                                      276  \n",
       "946                           185                                      504  \n",
       "947                           671                                      631  \n",
       "\n",
       "[948 rows x 5 columns]"
      ]
     },
     "execution_count": 11,
     "metadata": {},
     "output_type": "execute_result"
    }
   ],
   "source": [
    "rankDF = pd.DataFrame()\n",
    "rankDF['Selectivity_Rank'] = answerValue_entropies.rank(method='first',ascending=False).astype('int')\n",
    "rankDF['CorrectRate_Rank'] = isCorrect_entropies.rank(method='first',ascending=False).astype('int')\n",
    "rankDF['Difficulty_Rank'] = difficulty.rank(method='first',ascending=False).astype('int')\n",
    "df_columns = rankDF.columns.copy()\n",
    "rankDF['Selectivity+CorrectRate_Rank'] = rankDF[df_columns[:2]].mean(axis='columns').rank(method='first', ascending=True).astype('int')\n",
    "rankDF['Selectivity+CorrectRate+Difficulty_Rank'] = rankDF[df_columns[:3]].mean(axis='columns').rank(method='first',ascending=True).astype('int')\n",
    "rankDF"
   ]
  },
  {
   "attachments": {},
   "cell_type": "markdown",
   "metadata": {},
   "source": [
    "## 6. Save Rank(Rank that we got by using all three features)"
   ]
  },
  {
   "cell_type": "code",
   "execution_count": 12,
   "metadata": {},
   "outputs": [],
   "source": [
    "template = pd.read_csv('./submission/template.csv')\n",
    "template['ranking']=rankDF['Selectivity+CorrectRate+Difficulty_Rank']\n",
    "template.to_csv('./submission/20170502.csv', index=False)"
   ]
  },
  {
   "cell_type": "code",
   "execution_count": 13,
   "metadata": {},
   "outputs": [],
   "source": [
    "template = pd.read_csv('./submission/template.csv')\n",
    "template['ranking']=rankDF['Selectivity_Rank']\n",
    "template.to_csv('./submission/selectivity.csv', index=False)\n",
    "\n",
    "template = pd.read_csv('./submission/template.csv')\n",
    "template['ranking']=rankDF['CorrectRate_Rank']\n",
    "template.to_csv('./submission/correctrate.csv', index=False)\n",
    "\n",
    "template = pd.read_csv('./submission/template.csv')\n",
    "template['ranking']=rankDF['Difficulty_Rank']\n",
    "template.to_csv('./submission/difficulty.csv', index=False)\n",
    "\n",
    "template = pd.read_csv('./submission/template.csv')\n",
    "template['ranking']=rankDF['Selectivity+CorrectRate_Rank']\n",
    "template.to_csv('./submission/sel_corr.csv', index=False)"
   ]
  },
  {
   "attachments": {},
   "cell_type": "markdown",
   "metadata": {},
   "source": [
    "## 7. Evaluation(Validate)"
   ]
  },
  {
   "cell_type": "code",
   "execution_count": 14,
   "metadata": {},
   "outputs": [],
   "source": [
    "# load evaluators' score on \"validation\" set\n",
    "#https://competitions.codalab.org/forums/22145/4564/\n",
    "eval_validation = pd.read_csv('./data/test_data/quality_response_remapped_public.csv')\n",
    "template = pd.read_csv('./submission/20170502.csv')\n"
   ]
  },
  {
   "cell_type": "code",
   "execution_count": 15,
   "metadata": {},
   "outputs": [],
   "source": [
    "# for compare some results\n",
    "template_sel = pd.read_csv('./submission/selectivity.csv')\n",
    "\n",
    "template_corr = pd.read_csv('./submission/correctrate.csv')\n",
    "\n",
    "template_diff = pd.read_csv('./submission/difficulty.csv')\n",
    "\n",
    "template_sel_corr = pd.read_csv('./submission/sel_corr.csv')"
   ]
  },
  {
   "cell_type": "code",
   "execution_count": 16,
   "metadata": {},
   "outputs": [],
   "source": [
    "def evaluate(truth, submission):\n",
    "    # extract ranking\n",
    "    left = list(truth.left)\n",
    "    right = list(truth.right)\n",
    "\n",
    "    submission_left = []\n",
    "    submission_right = []\n",
    "    submission_preference = []\n",
    "    for idx in range(len(left)):\n",
    "        submission_left.append(left[idx])\n",
    "        submission_right.append(right[idx])\n",
    "        ranking_left = submission[submission.QuestionId==left[idx]].ranking.values[0]\n",
    "        ranking_right = submission[submission.QuestionId==right[idx]].ranking.values[0]\n",
    "        preference = 1 if ranking_left < ranking_right else 2\n",
    "        submission_preference.append(preference)\n",
    "    \n",
    "    return submission_preference"
   ]
  },
  {
   "cell_type": "code",
   "execution_count": 17,
   "metadata": {},
   "outputs": [
    {
     "name": "stdout",
     "output_type": "stream",
     "text": [
      "Accuracy for validation is 60.0%\n"
     ]
    }
   ],
   "source": [
    "eval_result = evaluate(eval_validation, template)\n",
    "percent = eval_result.count(2)/len(eval_validation)*100\n",
    "#print(eval_result)\n",
    "print(f'Accuracy for validation is {percent}%')"
   ]
  },
  {
   "cell_type": "code",
   "execution_count": 18,
   "metadata": {},
   "outputs": [
    {
     "name": "stdout",
     "output_type": "stream",
     "text": [
      "Accuracy for validation of selection feature is 60.0%\n",
      "Accuracy for validation of correct rate feature is 52.0%\n",
      "Accuracy for validation of difficulty feature is 48.0%\n",
      "Accuracy for validation of selection + correct rate feature is 56.00000000000001%\n"
     ]
    }
   ],
   "source": [
    "eval_result1 = evaluate(eval_validation, template_sel)\n",
    "percent1 = eval_result1.count(2)/len(eval_validation)*100\n",
    "#print(eval_result)\n",
    "print(f'Accuracy for validation of selection feature is {percent1}%')\n",
    "\n",
    "eval_result2 = evaluate(eval_validation, template_corr)\n",
    "percent2 = eval_result2.count(2)/len(eval_validation)*100\n",
    "#print(eval_result)\n",
    "print(f'Accuracy for validation of correct rate feature is {percent2}%')\n",
    "\n",
    "eval_result3 = evaluate(eval_validation, template_diff)\n",
    "percent3 = eval_result3.count(2)/len(eval_validation)*100\n",
    "#print(eval_result)\n",
    "print(f'Accuracy for validation of difficulty feature is {percent3}%')\n",
    "\n",
    "eval_result4 = evaluate(eval_validation, template_sel_corr)\n",
    "percent4 = eval_result4.count(2)/len(eval_validation)*100\n",
    "#print(eval_result)\n",
    "print(f'Accuracy for validation of selection + correct rate feature is {percent4}%')"
   ]
  },
  {
   "cell_type": "code",
   "execution_count": 19,
   "metadata": {},
   "outputs": [
    {
     "data": {
      "image/png": "[encoded data removed]",
      "text/plain": [
       "<Figure size 640x480 with 1 Axes>"
      ]
     },
     "metadata": {},
     "output_type": "display_data"
    }
   ],
   "source": [
    "x = np.arange(5)\n",
    "feature = ['selection +\\n correct rate +\\n difficulty','selection', 'correct rate', 'difficulty', 'selection +\\n correct rate']\n",
    "values = [percent, percent1, percent2, percent3, percent4]\n",
    "\n",
    "plt.bar(x, values)\n",
    "plt.xticks(x, feature)\n",
    "plt.title('Validation Result')\n",
    "plt.show()"
   ]
  },
  {
   "attachments": {},
   "cell_type": "markdown",
   "metadata": {},
   "source": [
    "## 8. Evaluation(Test)"
   ]
  },
  {
   "cell_type": "code",
   "execution_count": 20,
   "metadata": {},
   "outputs": [],
   "source": [
    "# load evaluators' score on \"validation\" set\n",
    "#https://competitions.codalab.org/forums/22145/4564/\n",
    "eval_test = pd.read_csv('./data/test_data/quality_response_remapped_private.csv')\n",
    "template = pd.read_csv('./submission/20170502.csv')"
   ]
  },
  {
   "cell_type": "code",
   "execution_count": 21,
   "metadata": {},
   "outputs": [
    {
     "name": "stdout",
     "output_type": "stream",
     "text": [
      "Accuracy for test is 48.0%\n"
     ]
    }
   ],
   "source": [
    "eval_result = evaluate(eval_test, template)\n",
    "percent = eval_result.count(2)/len(eval_validation)*100\n",
    "#print(eval_result)\n",
    "print(f'Accuracy for test is {percent}%')"
   ]
  },
  {
   "cell_type": "code",
   "execution_count": 22,
   "metadata": {},
   "outputs": [
    {
     "name": "stdout",
     "output_type": "stream",
     "text": [
      "Accuracy for test of selection feature is 40.0%\n",
      "Accuracy for test of correct rate feature is 52.0%\n",
      "Accuracy for test of difficulty feature is 48.0%\n",
      "Accuracy for test of selection + correct rate feature is 48.0%\n"
     ]
    }
   ],
   "source": [
    "eval_result = evaluate(eval_test, template_sel)\n",
    "percent1 = eval_result.count(2)/len(eval_test)*100\n",
    "#print(eval_result)\n",
    "print(f'Accuracy for test of selection feature is {percent1}%')\n",
    "\n",
    "eval_result = evaluate(eval_validation, template_corr)\n",
    "percent2 = eval_result.count(2)/len(eval_test)*100\n",
    "#print(eval_result)\n",
    "print(f'Accuracy for test of correct rate feature is {percent2}%')\n",
    "\n",
    "eval_result = evaluate(eval_test, template_diff)\n",
    "percent3 = eval_result.count(2)/len(eval_test)*100\n",
    "#print(eval_result)\n",
    "print(f'Accuracy for test of difficulty feature is {percent3}%')\n",
    "\n",
    "eval_result = evaluate(eval_test, template_sel_corr)\n",
    "percent4 = eval_result.count(2)/len(eval_test)*100\n",
    "#print(eval_result)\n",
    "print(f'Accuracy for test of selection + correct rate feature is {percent4}%')"
   ]
  },
  {
   "cell_type": "code",
   "execution_count": 23,
   "metadata": {},
   "outputs": [
    {
     "data": {
      "image/png": "[encoded data removed]",
      "text/plain": [
       "<Figure size 640x480 with 1 Axes>"
      ]
     },
     "metadata": {},
     "output_type": "display_data"
    }
   ],
   "source": [
    "x = np.arange(5)\n",
    "feature = ['selection +\\n correct rate +\\n difficulty','selection', 'correct rate', 'difficulty', 'selection +\\n correct rate']\n",
    "values = [percent, percent1, percent2, percent3, percent4]\n",
    "\n",
    "plt.bar(x, values)\n",
    "plt.xticks(x, feature)\n",
    "plt.title('Test Result')\n",
    "plt.show()"
   ]
  }
 ],
 "metadata": {
  "kernelspec": {
   "display_name": "mediapipe",
   "language": "python",
   "name": "python3"
  },
  "language_info": {
   "codemirror_mode": {
    "name": "ipython",
    "version": 3
   },
   "file_extension": ".py",
   "mimetype": "text/x-python",
   "name": "python",
   "nbconvert_exporter": "python",
   "pygments_lexer": "ipython3",
   "version": "3.10.9"
  },
  "orig_nbformat": 4
 },
 "nbformat": 4,
 "nbformat_minor": 2
}
