{
 "cells": [
  {
   "cell_type": "code",
   "execution_count": 1,
   "metadata": {},
   "outputs": [],
   "source": [
    "# !pip install pandas seaborn scipy numpy matplotlib"
   ]
  },
  {
   "cell_type": "code",
   "execution_count": 2,
   "metadata": {},
   "outputs": [],
   "source": [
    "import pandas as pd\n",
    "import seaborn as sns\n",
    "from scipy.stats import multinomial\n",
    "import matplotlib.pyplot as plt\n",
    "import numpy as np\n",
    "import itertools\n",
    "import math"
   ]
  },
  {
   "attachments": {},
   "cell_type": "markdown",
   "metadata": {},
   "source": [
    "## 1. Read Train Data"
   ]
  },
  {
   "cell_type": "code",
   "execution_count": 3,
   "metadata": {},
   "outputs": [
    {
     "name": "stdout",
     "output_type": "stream",
     "text": [
      "<class 'pandas.core.frame.DataFrame'>\n",
      "RangeIndex: 1382727 entries, 0 to 1382726\n",
      "Data columns (total 6 columns):\n",
      " #   Column         Non-Null Count    Dtype\n",
      "---  ------         --------------    -----\n",
      " 0   QuestionId     1382727 non-null  int64\n",
      " 1   UserId         1382727 non-null  int64\n",
      " 2   AnswerId       1382727 non-null  int64\n",
      " 3   IsCorrect      1382727 non-null  int64\n",
      " 4   CorrectAnswer  1382727 non-null  int64\n",
      " 5   AnswerValue    1382727 non-null  int64\n",
      "dtypes: int64(6)\n",
      "memory usage: 63.3 MB\n"
     ]
    },
    {
     "data": {
      "text/html": [
       "<div>\n",
       "<style scoped>\n",
       "    .dataframe tbody tr th:only-of-type {\n",
       "        vertical-align: middle;\n",
       "    }\n",
       "\n",
       "    .dataframe tbody tr th {\n",
       "        vertical-align: top;\n",
       "    }\n",
       "\n",
       "    .dataframe thead th {\n",
       "        text-align: right;\n",
       "    }\n",
       "</style>\n",
       "<table border=\"1\" class=\"dataframe\">\n",
       "  <thead>\n",
       "    <tr style=\"text-align: right;\">\n",
       "      <th></th>\n",
       "      <th>QuestionId</th>\n",
       "      <th>UserId</th>\n",
       "      <th>AnswerId</th>\n",
       "      <th>IsCorrect</th>\n",
       "      <th>CorrectAnswer</th>\n",
       "      <th>AnswerValue</th>\n",
       "    </tr>\n",
       "  </thead>\n",
       "  <tbody>\n",
       "    <tr>\n",
       "      <th>0</th>\n",
       "      <td>898</td>\n",
       "      <td>2111</td>\n",
       "      <td>280203</td>\n",
       "      <td>1</td>\n",
       "      <td>2</td>\n",
       "      <td>2</td>\n",
       "    </tr>\n",
       "    <tr>\n",
       "      <th>1</th>\n",
       "      <td>767</td>\n",
       "      <td>3062</td>\n",
       "      <td>55638</td>\n",
       "      <td>1</td>\n",
       "      <td>3</td>\n",
       "      <td>3</td>\n",
       "    </tr>\n",
       "    <tr>\n",
       "      <th>2</th>\n",
       "      <td>165</td>\n",
       "      <td>1156</td>\n",
       "      <td>386475</td>\n",
       "      <td>1</td>\n",
       "      <td>2</td>\n",
       "      <td>2</td>\n",
       "    </tr>\n",
       "    <tr>\n",
       "      <th>3</th>\n",
       "      <td>490</td>\n",
       "      <td>1653</td>\n",
       "      <td>997498</td>\n",
       "      <td>1</td>\n",
       "      <td>4</td>\n",
       "      <td>4</td>\n",
       "    </tr>\n",
       "    <tr>\n",
       "      <th>4</th>\n",
       "      <td>298</td>\n",
       "      <td>3912</td>\n",
       "      <td>578636</td>\n",
       "      <td>1</td>\n",
       "      <td>3</td>\n",
       "      <td>3</td>\n",
       "    </tr>\n",
       "    <tr>\n",
       "      <th>...</th>\n",
       "      <td>...</td>\n",
       "      <td>...</td>\n",
       "      <td>...</td>\n",
       "      <td>...</td>\n",
       "      <td>...</td>\n",
       "      <td>...</td>\n",
       "    </tr>\n",
       "    <tr>\n",
       "      <th>1382722</th>\n",
       "      <td>80</td>\n",
       "      <td>2608</td>\n",
       "      <td>57945</td>\n",
       "      <td>1</td>\n",
       "      <td>2</td>\n",
       "      <td>2</td>\n",
       "    </tr>\n",
       "    <tr>\n",
       "      <th>1382723</th>\n",
       "      <td>707</td>\n",
       "      <td>2549</td>\n",
       "      <td>584230</td>\n",
       "      <td>0</td>\n",
       "      <td>2</td>\n",
       "      <td>1</td>\n",
       "    </tr>\n",
       "    <tr>\n",
       "      <th>1382724</th>\n",
       "      <td>840</td>\n",
       "      <td>5901</td>\n",
       "      <td>1138956</td>\n",
       "      <td>1</td>\n",
       "      <td>1</td>\n",
       "      <td>1</td>\n",
       "    </tr>\n",
       "    <tr>\n",
       "      <th>1382725</th>\n",
       "      <td>794</td>\n",
       "      <td>3854</td>\n",
       "      <td>1151183</td>\n",
       "      <td>0</td>\n",
       "      <td>1</td>\n",
       "      <td>3</td>\n",
       "    </tr>\n",
       "    <tr>\n",
       "      <th>1382726</th>\n",
       "      <td>157</td>\n",
       "      <td>3184</td>\n",
       "      <td>1321883</td>\n",
       "      <td>1</td>\n",
       "      <td>3</td>\n",
       "      <td>3</td>\n",
       "    </tr>\n",
       "  </tbody>\n",
       "</table>\n",
       "<p>1382727 rows × 6 columns</p>\n",
       "</div>"
      ],
      "text/plain": [
       "         QuestionId  UserId  AnswerId  IsCorrect  CorrectAnswer  AnswerValue\n",
       "0               898    2111    280203          1              2            2\n",
       "1               767    3062     55638          1              3            3\n",
       "2               165    1156    386475          1              2            2\n",
       "3               490    1653    997498          1              4            4\n",
       "4               298    3912    578636          1              3            3\n",
       "...             ...     ...       ...        ...            ...          ...\n",
       "1382722          80    2608     57945          1              2            2\n",
       "1382723         707    2549    584230          0              2            1\n",
       "1382724         840    5901   1138956          1              1            1\n",
       "1382725         794    3854   1151183          0              1            3\n",
       "1382726         157    3184   1321883          1              3            3\n",
       "\n",
       "[1382727 rows x 6 columns]"
      ]
     },
     "execution_count": 3,
     "metadata": {},
     "output_type": "execute_result"
    }
   ],
   "source": [
    "df = pd.read_csv('./data/train_data/train_task_3_4.csv')\n",
    "df.info()\n",
    "df.groupby('UserId').value_counts()\n",
    "df"
   ]
  },
  {
   "cell_type": "code",
   "execution_count": 4,
   "metadata": {},
   "outputs": [
    {
     "data": {
      "text/html": [
       "<div>\n",
       "<style scoped>\n",
       "    .dataframe tbody tr th:only-of-type {\n",
       "        vertical-align: middle;\n",
       "    }\n",
       "\n",
       "    .dataframe tbody tr th {\n",
       "        vertical-align: top;\n",
       "    }\n",
       "\n",
       "    .dataframe thead th {\n",
       "        text-align: right;\n",
       "    }\n",
       "</style>\n",
       "<table border=\"1\" class=\"dataframe\">\n",
       "  <thead>\n",
       "    <tr style=\"text-align: right;\">\n",
       "      <th></th>\n",
       "      <th>QuestionId</th>\n",
       "      <th>UserId</th>\n",
       "      <th>AnswerId</th>\n",
       "      <th>IsCorrect</th>\n",
       "      <th>CorrectAnswer</th>\n",
       "      <th>AnswerValue</th>\n",
       "    </tr>\n",
       "  </thead>\n",
       "  <tbody>\n",
       "    <tr>\n",
       "      <th>count</th>\n",
       "      <td>1.382727e+06</td>\n",
       "      <td>1.382727e+06</td>\n",
       "      <td>1.382727e+06</td>\n",
       "      <td>1.382727e+06</td>\n",
       "      <td>1.382727e+06</td>\n",
       "      <td>1.382727e+06</td>\n",
       "    </tr>\n",
       "    <tr>\n",
       "      <th>mean</th>\n",
       "      <td>4.682276e+02</td>\n",
       "      <td>3.036283e+03</td>\n",
       "      <td>7.544279e+05</td>\n",
       "      <td>5.373317e-01</td>\n",
       "      <td>2.390497e+00</td>\n",
       "      <td>2.437992e+00</td>\n",
       "    </tr>\n",
       "    <tr>\n",
       "      <th>std</th>\n",
       "      <td>2.735797e+02</td>\n",
       "      <td>1.770599e+03</td>\n",
       "      <td>4.356190e+05</td>\n",
       "      <td>4.986046e-01</td>\n",
       "      <td>1.066479e+00</td>\n",
       "      <td>1.067624e+00</td>\n",
       "    </tr>\n",
       "    <tr>\n",
       "      <th>min</th>\n",
       "      <td>0.000000e+00</td>\n",
       "      <td>1.000000e+00</td>\n",
       "      <td>0.000000e+00</td>\n",
       "      <td>0.000000e+00</td>\n",
       "      <td>1.000000e+00</td>\n",
       "      <td>1.000000e+00</td>\n",
       "    </tr>\n",
       "    <tr>\n",
       "      <th>25%</th>\n",
       "      <td>2.330000e+02</td>\n",
       "      <td>1.515000e+03</td>\n",
       "      <td>3.772935e+05</td>\n",
       "      <td>0.000000e+00</td>\n",
       "      <td>1.000000e+00</td>\n",
       "      <td>2.000000e+00</td>\n",
       "    </tr>\n",
       "    <tr>\n",
       "      <th>50%</th>\n",
       "      <td>4.680000e+02</td>\n",
       "      <td>3.009000e+03</td>\n",
       "      <td>7.544530e+05</td>\n",
       "      <td>1.000000e+00</td>\n",
       "      <td>2.000000e+00</td>\n",
       "      <td>2.000000e+00</td>\n",
       "    </tr>\n",
       "    <tr>\n",
       "      <th>75%</th>\n",
       "      <td>7.030000e+02</td>\n",
       "      <td>4.565000e+03</td>\n",
       "      <td>1.131772e+06</td>\n",
       "      <td>1.000000e+00</td>\n",
       "      <td>3.000000e+00</td>\n",
       "      <td>3.000000e+00</td>\n",
       "    </tr>\n",
       "    <tr>\n",
       "      <th>max</th>\n",
       "      <td>9.470000e+02</td>\n",
       "      <td>6.147000e+03</td>\n",
       "      <td>1.508916e+06</td>\n",
       "      <td>1.000000e+00</td>\n",
       "      <td>4.000000e+00</td>\n",
       "      <td>4.000000e+00</td>\n",
       "    </tr>\n",
       "  </tbody>\n",
       "</table>\n",
       "</div>"
      ],
      "text/plain": [
       "         QuestionId        UserId      AnswerId     IsCorrect  CorrectAnswer   \n",
       "count  1.382727e+06  1.382727e+06  1.382727e+06  1.382727e+06   1.382727e+06  \\\n",
       "mean   4.682276e+02  3.036283e+03  7.544279e+05  5.373317e-01   2.390497e+00   \n",
       "std    2.735797e+02  1.770599e+03  4.356190e+05  4.986046e-01   1.066479e+00   \n",
       "min    0.000000e+00  1.000000e+00  0.000000e+00  0.000000e+00   1.000000e+00   \n",
       "25%    2.330000e+02  1.515000e+03  3.772935e+05  0.000000e+00   1.000000e+00   \n",
       "50%    4.680000e+02  3.009000e+03  7.544530e+05  1.000000e+00   2.000000e+00   \n",
       "75%    7.030000e+02  4.565000e+03  1.131772e+06  1.000000e+00   3.000000e+00   \n",
       "max    9.470000e+02  6.147000e+03  1.508916e+06  1.000000e+00   4.000000e+00   \n",
       "\n",
       "        AnswerValue  \n",
       "count  1.382727e+06  \n",
       "mean   2.437992e+00  \n",
       "std    1.067624e+00  \n",
       "min    1.000000e+00  \n",
       "25%    2.000000e+00  \n",
       "50%    2.000000e+00  \n",
       "75%    3.000000e+00  \n",
       "max    4.000000e+00  "
      ]
     },
     "execution_count": 4,
     "metadata": {},
     "output_type": "execute_result"
    }
   ],
   "source": [
    "df.describe()\n"
   ]
  },
  {
   "cell_type": "code",
   "execution_count": 5,
   "metadata": {},
   "outputs": [
    {
     "data": {
      "text/plain": [
       "948"
      ]
     },
     "execution_count": 5,
     "metadata": {},
     "output_type": "execute_result"
    }
   ],
   "source": [
    "# check pure unique questions num\n",
    "qNum = len(df['QuestionId'].unique())\n",
    "qNum"
   ]
  },
  {
   "attachments": {},
   "cell_type": "markdown",
   "metadata": {},
   "source": [
    "## 2. Calculate selectivity by multinomial entropy of normalized values of AnswerValue"
   ]
  },
  {
   "cell_type": "code",
   "execution_count": 6,
   "metadata": {},
   "outputs": [
    {
     "name": "stdout",
     "output_type": "stream",
     "text": [
      "0      0.270462\n",
      "1     -1.290954\n",
      "2      0.943211\n",
      "3     -2.176383\n",
      "4      0.907212\n",
      "         ...   \n",
      "943   -0.886257\n",
      "944    0.848780\n",
      "945    0.596416\n",
      "946    0.477750\n",
      "947   -0.277917\n",
      "Name: AnswerValue, Length: 948, dtype: float64\n"
     ]
    }
   ],
   "source": [
    "# if selection entropy is close to 0, it means bad distribution(selectivity) of given possible answers\n",
    "answerValue_value = df.groupby('QuestionId')['AnswerValue'].value_counts(normalize=True)\n",
    "\n",
    "answerValue_value_list=[]\n",
    "index=[]\n",
    "\n",
    "for i in range(0,qNum):\n",
    "    index.append(i)\n",
    "    answerValue_value_list.append(multinomial.entropy(1,answerValue_value[i]))\n",
    "\n",
    "answerValue_entropies = pd.Series(answerValue_value_list, index=index, dtype=float, name='AnswerValue')\n",
    "answerValue_entropies = (answerValue_entropies - np.mean(answerValue_entropies))/np.std(answerValue_entropies)\n",
    "print(answerValue_entropies)"
   ]
  },
  {
   "cell_type": "code",
   "execution_count": 7,
   "metadata": {},
   "outputs": [
    {
     "data": {
      "text/plain": [
       "<Axes: xlabel='AnswerValue', ylabel='Count'>"
      ]
     },
     "execution_count": 7,
     "metadata": {},
     "output_type": "execute_result"
    },
    {
     "data": {
      "image/png": "[encoded data removed]",
      "text/plain": [
       "<Figure size 640x480 with 1 Axes>"
      ]
     },
     "metadata": {},
     "output_type": "display_data"
    }
   ],
   "source": [
    "sns.histplot(answerValue_entropies)"
   ]
  },
  {
   "attachments": {},
   "cell_type": "markdown",
   "metadata": {},
   "source": [
    "## 3. Calculate Correct answer rate by multinomial entropy of normalized values of IsCorrect"
   ]
  },
  {
   "cell_type": "code",
   "execution_count": 8,
   "metadata": {},
   "outputs": [
    {
     "name": "stdout",
     "output_type": "stream",
     "text": [
      "0      0.646696\n",
      "1      0.592216\n",
      "2      0.359719\n",
      "3     -2.179250\n",
      "4      0.459543\n",
      "         ...   \n",
      "943    0.611566\n",
      "944   -3.287095\n",
      "945    0.565577\n",
      "946    0.691027\n",
      "947    0.344009\n",
      "Name: IsCorrect, Length: 948, dtype: float64\n"
     ]
    }
   ],
   "source": [
    "# if correctness entropy is close to 0, it means good correct answer rate.\n",
    "isCorrect_value = df.groupby('QuestionId')['IsCorrect'].value_counts(normalize=True)\n",
    "\n",
    "isCorrect_value_list=[]\n",
    "index=[]\n",
    "\n",
    "for i in range(0,qNum):\n",
    "    index.append(i)\n",
    "    isCorrect_value_list.append(multinomial.entropy(1,isCorrect_value[i]))\n",
    "\n",
    "isCorrect_entropies = pd.Series(isCorrect_value_list, index=index, dtype=float, name='IsCorrect')\n",
    "isCorrect_entropies = (isCorrect_entropies - np.mean(isCorrect_entropies))/np.std(isCorrect_entropies)\n",
    "print(isCorrect_entropies)"
   ]
  },
  {
   "cell_type": "code",
   "execution_count": 9,
   "metadata": {},
   "outputs": [
    {
     "data": {
      "text/plain": [
       "<Axes: xlabel='IsCorrect', ylabel='Count'>"
      ]
     },
     "execution_count": 9,
     "metadata": {},
     "output_type": "execute_result"
    },
    {
     "data": {
      "image/png": "[encoded data removed]",
      "text/plain": [
       "<Figure size 640x480 with 1 Axes>"
      ]
     },
     "metadata": {},
     "output_type": "display_data"
    }
   ],
   "source": [
    "sns.histplot(isCorrect_entropies)"
   ]
  },
  {
   "attachments": {},
   "cell_type": "markdown",
   "metadata": {},
   "source": [
    "## 4. Calculate Difficulty of question by IsCorrect-UserCorrectRate(each user's correct rate)"
   ]
  },
  {
   "cell_type": "code",
   "execution_count": 10,
   "metadata": {},
   "outputs": [
    {
     "name": "stdout",
     "output_type": "stream",
     "text": [
      "QuestionId\n",
      "0     -0.264619\n",
      "1     -0.843245\n",
      "2      0.244316\n",
      "3      1.659576\n",
      "4      0.147928\n",
      "         ...   \n",
      "943   -1.289209\n",
      "944    2.741336\n",
      "945   -0.184649\n",
      "946   -1.231891\n",
      "947   -0.328292\n",
      "Name: Difficulty, Length: 948, dtype: float64\n"
     ]
    }
   ],
   "source": [
    "# get score of each users\n",
    "userCorrectRate = df.groupby('UserId')['IsCorrect'].mean()\n",
    "df['UserCorrectRate'] = df['UserId'].map(userCorrectRate) # map userCorrectRate with userid, get correct rate of each user!\n",
    "\n",
    "# get question difficulty\n",
    "difficulty_df = df.groupby(['QuestionId']).agg({'IsCorrect': 'mean', 'UserCorrectRate': 'mean'})\n",
    "difficulty_df['Difficulty'] = abs(difficulty_df['IsCorrect'] - difficulty_df['UserCorrectRate'])\n",
    "difficulty_df = difficulty_df.sort_index()\n",
    "difficulty = difficulty_df.iloc[:,2]\n",
    "\n",
    "difficulty = (difficulty - np.mean(difficulty))/np.std(difficulty)\n",
    "print(difficulty)"
   ]
  },
  {
   "cell_type": "code",
   "execution_count": 11,
   "metadata": {},
   "outputs": [
    {
     "data": {
      "text/plain": [
       "<Axes: xlabel='Difficulty', ylabel='Count'>"
      ]
     },
     "execution_count": 11,
     "metadata": {},
     "output_type": "execute_result"
    },
    {
     "data": {
      "image/png": "[encoded data removed]",
      "text/plain": [
       "<Figure size 640x480 with 1 Axes>"
      ]
     },
     "metadata": {},
     "output_type": "display_data"
    }
   ],
   "source": [
    "sns.histplot(difficulty)"
   ]
  },
  {
   "attachments": {},
   "cell_type": "markdown",
   "metadata": {},
   "source": [
    "## 5. Load metadata"
   ]
  },
  {
   "cell_type": "code",
   "execution_count": 12,
   "metadata": {},
   "outputs": [
    {
     "name": "stdout",
     "output_type": "stream",
     "text": [
      "         AnswerId             DateAnswered  Confidence  GroupId  QuizId   \n",
      "0         1451945  2019-10-30 14:34:00.000         NaN        4      32  \\\n",
      "1           45325  2020-01-06 18:53:00.000        75.0      185      66   \n",
      "2          687013  2020-01-18 10:52:00.000         NaN      235      64   \n",
      "3           91254  2020-02-29 17:25:00.000         NaN      194      97   \n",
      "4         1225855  2020-03-06 15:07:00.000         NaN       95     115   \n",
      "...           ...                      ...         ...      ...     ...   \n",
      "1508912    880336  2019-12-05 18:56:00.000        75.0       27      84   \n",
      "1508913    701366  2020-01-20 20:27:00.000         NaN      362      65   \n",
      "1508914    646214  2019-12-17 19:33:00.000         NaN      170      84   \n",
      "1508915    346788  2019-10-25 15:00:00.000         NaN       10      73   \n",
      "1508916    949136  2019-11-01 21:29:00.000        75.0      300      49   \n",
      "\n",
      "         SchemeOfWorkId  \n",
      "0               52562.0  \n",
      "1               52562.0  \n",
      "2               52562.0  \n",
      "3               52562.0  \n",
      "4               52562.0  \n",
      "...                 ...  \n",
      "1508912         52562.0  \n",
      "1508913         52562.0  \n",
      "1508914         52562.0  \n",
      "1508915         52562.0  \n",
      "1508916         52562.0  \n",
      "\n",
      "[1508917 rows x 6 columns]\n"
     ]
    }
   ],
   "source": [
    "answer_meta_data = pd.read_csv('./data/metadata/answer_metadata_task_3_4.csv')\n",
    "\n",
    "print(answer_meta_data)"
   ]
  },
  {
   "cell_type": "code",
   "execution_count": 13,
   "metadata": {},
   "outputs": [],
   "source": [
    "# load the submission csv file\n",
    "template = pd.read_csv('./submission/template.csv')"
   ]
  },
  {
   "attachments": {},
   "cell_type": "markdown",
   "metadata": {},
   "source": [
    "## 6. Compute confidence for each problems in metadata"
   ]
  },
  {
   "cell_type": "code",
   "execution_count": 14,
   "metadata": {},
   "outputs": [
    {
     "name": "stdout",
     "output_type": "stream",
     "text": [
      "0     -8.563756e-01\n",
      "1     -1.548374e-15\n",
      "2     -8.536644e-01\n",
      "3      1.196897e+00\n",
      "4     -1.600884e+00\n",
      "           ...     \n",
      "943    1.063146e+00\n",
      "944   -4.557979e-01\n",
      "945   -1.951952e-01\n",
      "946   -2.154513e-01\n",
      "947    1.312024e-01\n",
      "Name: z_confidence, Length: 948, dtype: float64\n"
     ]
    }
   ],
   "source": [
    "new_df = df.merge(answer_meta_data, on='AnswerId', how='left') # answerid matches with train data\n",
    "confidence = new_df[new_df['Confidence'].notnull()] # find not NAN rows\n",
    "questionId = confidence.groupby('QuestionId')['QuestionId'].agg(lambda x: len(x))\n",
    "\n",
    "qid = {}\n",
    "\n",
    "for i in questionId.index:\n",
    "    qid[i] = questionId[i]\n",
    "\n",
    "temp = []\n",
    "\n",
    "for key, value in qid.items():\n",
    "    temp.append(key)\n",
    "\n",
    "confidence = confidence[confidence['QuestionId'].isin(temp)]\n",
    "\n",
    "avg = {}\n",
    "\n",
    "for i in confidence['QuestionId'].unique():\n",
    "    part = confidence[confidence['QuestionId']==i]\n",
    "    avg[i] = part['Confidence'].mean()\n",
    "\n",
    "confidences = list(avg.values())\n",
    "template['confidence'] = template['QuestionId'].apply(lambda x: avg[x] if x in avg else np.mean(confidences))\n",
    "template['z_confidence'] = (template['confidence']-np.mean(template['confidence']))/np.std(template['confidence'])\n",
    "\n",
    "zconfidence= template['z_confidence']\n",
    "print(zconfidence)\n"
   ]
  },
  {
   "cell_type": "code",
   "execution_count": 15,
   "metadata": {},
   "outputs": [
    {
     "data": {
      "text/plain": [
       "<Axes: xlabel='z_confidence', ylabel='Count'>"
      ]
     },
     "execution_count": 15,
     "metadata": {},
     "output_type": "execute_result"
    },
    {
     "data": {
      "image/png": "[encoded data removed]",
      "text/plain": [
       "<Figure size 640x480 with 1 Axes>"
      ]
     },
     "metadata": {},
     "output_type": "display_data"
    }
   ],
   "source": [
    "sns.histplot(zconfidence)"
   ]
  },
  {
   "attachments": {},
   "cell_type": "markdown",
   "metadata": {},
   "source": [
    "## 7. Compute each groups'(each GroupId) correct rate in metadata"
   ]
  },
  {
   "cell_type": "code",
   "execution_count": 16,
   "metadata": {},
   "outputs": [],
   "source": [
    "def group_entropy(input_df):\n",
    "    tempDF = input_df.groupby('GroupId')['IsCorrect'].value_counts(normalize=True)\n",
    "    \n",
    "    tempDF_list=[]\n",
    "    index = list(sorted(set(input_df['GroupId'].tolist())))\n",
    "    \n",
    "    for i in index:\n",
    "        tempDF_list.append(multinomial.entropy(1,tempDF[i]))\n",
    "\n",
    "    tempDF = pd.Series(tempDF_list, index=index, dtype=float, name='groupIdValue')\n",
    "    \n",
    "    score = 0\n",
    "    for i in tempDF.index:\n",
    "        cut_df = input_df[input_df['GroupId']==i]\n",
    "        score += tempDF[i] * (cut_df.shape[0]/input_df.shape[0])\n",
    "    return score"
   ]
  },
  {
   "cell_type": "code",
   "execution_count": 17,
   "metadata": {},
   "outputs": [
    {
     "name": "stdout",
     "output_type": "stream",
     "text": [
      "0      0.606704\n",
      "1     -0.637226\n",
      "2      0.997397\n",
      "3     -1.131659\n",
      "4      1.012201\n",
      "         ...   \n",
      "943    0.885074\n",
      "944   -2.873931\n",
      "945    1.097444\n",
      "946   -1.465647\n",
      "947    0.086751\n",
      "Name: group_entropy, Length: 948, dtype: float64\n"
     ]
    }
   ],
   "source": [
    "group_entropies = {}\n",
    "for i in new_df.QuestionId.unique():\n",
    "    input_df = new_df[new_df['QuestionId']==i]\n",
    "    input_df = input_df.reset_index(drop=True)\n",
    "    group_entropies[i] = group_entropy(input_df)\n",
    "template['group_entropy'] = template['QuestionId'].apply(lambda x: group_entropies[x])\n",
    "zgroup = (template['group_entropy']-template['group_entropy'].mean())/template['group_entropy'].std()\n",
    "\n",
    "print(zgroup)"
   ]
  },
  {
   "cell_type": "code",
   "execution_count": 18,
   "metadata": {},
   "outputs": [
    {
     "data": {
      "text/plain": [
       "<Axes: xlabel='group_entropy', ylabel='Count'>"
      ]
     },
     "execution_count": 18,
     "metadata": {},
     "output_type": "execute_result"
    },
    {
     "data": {
      "image/png": "[encoded data removed]",
      "text/plain": [
       "<Figure size 640x480 with 1 Axes>"
      ]
     },
     "metadata": {},
     "output_type": "display_data"
    }
   ],
   "source": [
    "sns.histplot(zgroup)"
   ]
  },
  {
   "attachments": {},
   "cell_type": "markdown",
   "metadata": {},
   "source": [
    "## 8. Compute correct rate for each quiz(each QuizId) in metadata"
   ]
  },
  {
   "cell_type": "code",
   "execution_count": 19,
   "metadata": {},
   "outputs": [],
   "source": [
    "def quiz_entropy(input_df):\n",
    "    tempDF = input_df.groupby('QuizId')['IsCorrect'].value_counts(normalize=True)\n",
    "\n",
    "    tempDF_list=[]\n",
    "    index = list(sorted(set(input_df['QuizId'].tolist())))\n",
    "    \n",
    "    for i in index:\n",
    "        tempDF_list.append(multinomial.entropy(1,tempDF[i]))\n",
    "\n",
    "    tempDF = pd.Series(tempDF_list, index=index, dtype=float, name='quizIdValue')\n",
    "\n",
    "    score = 0\n",
    "    for i in tempDF.index:\n",
    "        cut_df = input_df[input_df['QuizId']==i]\n",
    "        score += tempDF[i] * (cut_df.shape[0]/input_df.shape[0])\n",
    "    return score\n",
    "quiz_entropies = {}\n",
    "\n"
   ]
  },
  {
   "cell_type": "code",
   "execution_count": 20,
   "metadata": {},
   "outputs": [
    {
     "name": "stdout",
     "output_type": "stream",
     "text": [
      "0      0.007692\n",
      "1      0.611667\n",
      "2      0.344118\n",
      "3     -1.986184\n",
      "4      0.313453\n",
      "         ...   \n",
      "943    0.700696\n",
      "944   -3.621256\n",
      "945    0.625783\n",
      "946    0.833270\n",
      "947    0.380039\n",
      "Name: zquiz_entropy, Length: 948, dtype: float64\n"
     ]
    }
   ],
   "source": [
    "for i in new_df.QuestionId.unique():\n",
    "    input_df = new_df[new_df['QuestionId']==i]\n",
    "    quiz_entropies[i] = quiz_entropy(input_df)\n",
    "template['quiz_entropy'] = template['QuestionId'].apply(lambda x: quiz_entropies[x])\n",
    "template['zquiz_entropy'] = (template['quiz_entropy']-template['quiz_entropy'].mean())/template['quiz_entropy'].std()\n",
    "zquiz = template['zquiz_entropy']\n",
    "\n",
    "print(zquiz)"
   ]
  },
  {
   "cell_type": "code",
   "execution_count": 21,
   "metadata": {},
   "outputs": [
    {
     "data": {
      "text/plain": [
       "<Axes: xlabel='zquiz_entropy', ylabel='Count'>"
      ]
     },
     "execution_count": 21,
     "metadata": {},
     "output_type": "execute_result"
    },
    {
     "data": {
      "image/png": "[encoded data removed]",
      "text/plain": [
       "<Figure size 640x480 with 1 Axes>"
      ]
     },
     "metadata": {},
     "output_type": "display_data"
    }
   ],
   "source": [
    "sns.histplot(zquiz)"
   ]
  },
  {
   "attachments": {},
   "cell_type": "markdown",
   "metadata": {},
   "source": [
    "## 9. Show calcuated rank by each features"
   ]
  },
  {
   "cell_type": "code",
   "execution_count": 22,
   "metadata": {},
   "outputs": [
    {
     "data": {
      "text/html": [
       "<div>\n",
       "<style scoped>\n",
       "    .dataframe tbody tr th:only-of-type {\n",
       "        vertical-align: middle;\n",
       "    }\n",
       "\n",
       "    .dataframe tbody tr th {\n",
       "        vertical-align: top;\n",
       "    }\n",
       "\n",
       "    .dataframe thead th {\n",
       "        text-align: right;\n",
       "    }\n",
       "</style>\n",
       "<table border=\"1\" class=\"dataframe\">\n",
       "  <thead>\n",
       "    <tr style=\"text-align: right;\">\n",
       "      <th></th>\n",
       "      <th>Selectivity_Rank</th>\n",
       "      <th>CorrectRate_Rank</th>\n",
       "      <th>Difficulty_Rank</th>\n",
       "      <th>Confidence_Rank</th>\n",
       "      <th>Group_Rank</th>\n",
       "      <th>Quiz_Rank</th>\n",
       "    </tr>\n",
       "  </thead>\n",
       "  <tbody>\n",
       "    <tr>\n",
       "      <th>0</th>\n",
       "      <td>484</td>\n",
       "      <td>247</td>\n",
       "      <td>527</td>\n",
       "      <td>188</td>\n",
       "      <td>331</td>\n",
       "      <td>617</td>\n",
       "    </tr>\n",
       "    <tr>\n",
       "      <th>1</th>\n",
       "      <td>844</td>\n",
       "      <td>293</td>\n",
       "      <td>710</td>\n",
       "      <td>422</td>\n",
       "      <td>730</td>\n",
       "      <td>283</td>\n",
       "    </tr>\n",
       "    <tr>\n",
       "      <th>2</th>\n",
       "      <td>124</td>\n",
       "      <td>481</td>\n",
       "      <td>357</td>\n",
       "      <td>192</td>\n",
       "      <td>92</td>\n",
       "      <td>471</td>\n",
       "    </tr>\n",
       "    <tr>\n",
       "      <th>3</th>\n",
       "      <td>908</td>\n",
       "      <td>915</td>\n",
       "      <td>64</td>\n",
       "      <td>855</td>\n",
       "      <td>823</td>\n",
       "      <td>909</td>\n",
       "    </tr>\n",
       "    <tr>\n",
       "      <th>4</th>\n",
       "      <td>150</td>\n",
       "      <td>405</td>\n",
       "      <td>389</td>\n",
       "      <td>63</td>\n",
       "      <td>84</td>\n",
       "      <td>494</td>\n",
       "    </tr>\n",
       "    <tr>\n",
       "      <th>...</th>\n",
       "      <td>...</td>\n",
       "      <td>...</td>\n",
       "      <td>...</td>\n",
       "      <td>...</td>\n",
       "      <td>...</td>\n",
       "      <td>...</td>\n",
       "    </tr>\n",
       "    <tr>\n",
       "      <th>943</th>\n",
       "      <td>780</td>\n",
       "      <td>274</td>\n",
       "      <td>891</td>\n",
       "      <td>815</td>\n",
       "      <td>158</td>\n",
       "      <td>186</td>\n",
       "    </tr>\n",
       "    <tr>\n",
       "      <th>944</th>\n",
       "      <td>188</td>\n",
       "      <td>938</td>\n",
       "      <td>7</td>\n",
       "      <td>284</td>\n",
       "      <td>934</td>\n",
       "      <td>942</td>\n",
       "    </tr>\n",
       "    <tr>\n",
       "      <th>945</th>\n",
       "      <td>331</td>\n",
       "      <td>324</td>\n",
       "      <td>492</td>\n",
       "      <td>368</td>\n",
       "      <td>48</td>\n",
       "      <td>268</td>\n",
       "    </tr>\n",
       "    <tr>\n",
       "      <th>946</th>\n",
       "      <td>397</td>\n",
       "      <td>178</td>\n",
       "      <td>869</td>\n",
       "      <td>358</td>\n",
       "      <td>864</td>\n",
       "      <td>34</td>\n",
       "    </tr>\n",
       "    <tr>\n",
       "      <th>947</th>\n",
       "      <td>643</td>\n",
       "      <td>489</td>\n",
       "      <td>546</td>\n",
       "      <td>508</td>\n",
       "      <td>537</td>\n",
       "      <td>453</td>\n",
       "    </tr>\n",
       "  </tbody>\n",
       "</table>\n",
       "<p>948 rows × 6 columns</p>\n",
       "</div>"
      ],
      "text/plain": [
       "     Selectivity_Rank  CorrectRate_Rank  Difficulty_Rank  Confidence_Rank   \n",
       "0                 484               247              527              188  \\\n",
       "1                 844               293              710              422   \n",
       "2                 124               481              357              192   \n",
       "3                 908               915               64              855   \n",
       "4                 150               405              389               63   \n",
       "..                ...               ...              ...              ...   \n",
       "943               780               274              891              815   \n",
       "944               188               938                7              284   \n",
       "945               331               324              492              368   \n",
       "946               397               178              869              358   \n",
       "947               643               489              546              508   \n",
       "\n",
       "     Group_Rank  Quiz_Rank  \n",
       "0           331        617  \n",
       "1           730        283  \n",
       "2            92        471  \n",
       "3           823        909  \n",
       "4            84        494  \n",
       "..          ...        ...  \n",
       "943         158        186  \n",
       "944         934        942  \n",
       "945          48        268  \n",
       "946         864         34  \n",
       "947         537        453  \n",
       "\n",
       "[948 rows x 6 columns]"
      ]
     },
     "execution_count": 22,
     "metadata": {},
     "output_type": "execute_result"
    }
   ],
   "source": [
    "rankDF = pd.DataFrame()\n",
    "rankDF['Selectivity_Rank'] = answerValue_entropies.rank(method='first',ascending=False).astype('int')\n",
    "rankDF['CorrectRate_Rank'] = isCorrect_entropies.rank(method='first',ascending=False).astype('int')\n",
    "rankDF['Difficulty_Rank'] = difficulty.rank(method='first',ascending=False).astype('int')\n",
    "rankDF['Confidence_Rank'] = zconfidence.rank(method='first',ascending=True).astype('int')\n",
    "rankDF['Group_Rank'] = zgroup.rank(method='first',ascending=False).astype('int')\n",
    "rankDF['Quiz_Rank'] = zquiz.rank(method='first',ascending=False).astype('int')\n",
    "\n",
    "rankDF"
   ]
  },
  {
   "attachments": {},
   "cell_type": "markdown",
   "metadata": {},
   "source": [
    "## 10. Get prediction result by 'evaluate' function & Get actual ground truth by 'evaluate_truth' function"
   ]
  },
  {
   "cell_type": "code",
   "execution_count": 23,
   "metadata": {},
   "outputs": [],
   "source": [
    "# Get prediction of result of truth file.\n",
    "def evaluate(truth, submission):\n",
    "    # extract ranking\n",
    "    left = list(truth.left)\n",
    "    right = list(truth.right)\n",
    "\n",
    "    submission_left = []\n",
    "    submission_right = []\n",
    "    submission_preference = []\n",
    "    for idx in range(len(left)):\n",
    "        submission_left.append(left[idx])\n",
    "        submission_right.append(right[idx])\n",
    "        ranking_left = submission[submission.QuestionId==left[idx]].ranking.values[0]\n",
    "        ranking_right = submission[submission.QuestionId==right[idx]].ranking.values[0]\n",
    "        preference = 1 if ranking_left < ranking_right else 2\n",
    "        submission_preference.append(preference)\n",
    "    \n",
    "    return submission_preference"
   ]
  },
  {
   "cell_type": "code",
   "execution_count": 24,
   "metadata": {},
   "outputs": [],
   "source": [
    "# To measure accuracy, we need to know actucal rank. So get actual rank by evaluate_truth\n",
    "def evaluate_truth(truth):\n",
    "    T1_ALR = list(truth.T1_ALR)\n",
    "    T2_CL = list(truth.T2_CL)\n",
    "    T3_GF = list(truth.T3_GF)\n",
    "    T4_MQ = list(truth.T4_MQ)\n",
    "    T5_NS =  list(truth.T5_NS)\n",
    "    truth_preference = []\n",
    "    for i,score in enumerate(T1_ALR):\n",
    "        if math.isnan(T1_ALR[i]):\n",
    "            sumEval = 0\n",
    "            sumEval = T2_CL[i] + T3_GF[i] + T4_MQ[i]+ T5_NS[i]\n",
    "            truth_preference.append(round(sumEval/4))    \n",
    "        elif math.isnan(T2_CL[i]):\n",
    "            sumEval = 0\n",
    "            sumEval = T1_ALR[i] + T3_GF[i] + T4_MQ[i]+ T5_NS[i]\n",
    "            truth_preference.append(round(sumEval/4))    \n",
    "        elif math.isnan(T3_GF[i]):\n",
    "            sumEval = 0\n",
    "            sumEval = T1_ALR[i] + T2_CL[i] + T4_MQ[i]+ T5_NS[i]\n",
    "            truth_preference.append(round(sumEval/4))    \n",
    "        elif math.isnan(T4_MQ[i]):\n",
    "            sumEval = 0\n",
    "            sumEval = T1_ALR[i] + T2_CL[i] + T3_GF[i] + T5_NS[i]\n",
    "            truth_preference.append(round(sumEval/4))    \n",
    "        elif math.isnan(T5_NS[i]):\n",
    "            sumEval = 0\n",
    "            sumEval = T1_ALR[i] + T2_CL[i] + T3_GF[i] + T4_MQ[i]\n",
    "            truth_preference.append(round(sumEval/4))    \n",
    "        else:\n",
    "            sumEval = 0\n",
    "            sumEval = T1_ALR[i] + T2_CL[i] + T3_GF[i] + T4_MQ[i] + T5_NS[i]\n",
    "            truth_preference.append(round(sumEval/5))   \n",
    "        \n",
    "    \n",
    "    return truth_preference"
   ]
  },
  {
   "attachments": {},
   "cell_type": "markdown",
   "metadata": {},
   "source": [
    "## 11. Check combination of features by 'subset_selection' function & Find best subset by 'find_bestDF' function"
   ]
  },
  {
   "cell_type": "code",
   "execution_count": 25,
   "metadata": {},
   "outputs": [],
   "source": [
    "def subset_selection(rankDF, k):\n",
    "    df_columns = rankDF.columns.copy().tolist()\n",
    "    temp_df = pd.DataFrame(index=rankDF.index)\n",
    "    for subset in itertools.combinations(df_columns, k):\n",
    "        df = pd.Series([0 for i in range(0,len(rankDF))],index=rankDF.index)\n",
    "        columnName=\"\"\n",
    "        for i in subset:\n",
    "            columnName = columnName + \"_\" + i\n",
    "            if(i==\"Confidence_Rank\"):\n",
    "                df = df + rankDF[i]\n",
    "            else:\n",
    "                df = df + rankDF[i]\n",
    "        \n",
    "        df=df/k\n",
    "        df = df.rank(method='first', ascending=True).astype('int')\n",
    "        temp_df[columnName] = df\n",
    "\n",
    "    return temp_df"
   ]
  },
  {
   "cell_type": "code",
   "execution_count": 26,
   "metadata": {},
   "outputs": [],
   "source": [
    "# best subset selection\n",
    "def find_bestDF(eval_validation):\n",
    "    col = \"\"\n",
    "    percent_max = 0\n",
    "    df_subsets = pd.DataFrame()\n",
    "    for idx in range(1,len(rankDF.columns)+1):\n",
    "        temp_df = subset_selection(rankDF, idx)\n",
    "        df_subsets = pd.concat([df_subsets,temp_df],axis=1)\n",
    "        for name in temp_df.columns.tolist():\n",
    "            df = pd.DataFrame({'QuestionId':temp_df[name].index,'ranking':temp_df[name].values})\n",
    "            eval_result = evaluate(eval_validation, df)\n",
    "            truth_preference = evaluate_truth(eval_validation)\n",
    "\n",
    "            wrong_num = 0\n",
    "            for i, score in enumerate(truth_preference):\n",
    "                if truth_preference[i] != eval_result[i]:\n",
    "                    wrong_num = wrong_num + 1\n",
    "            percent = (len(truth_preference)-wrong_num)/len(truth_preference) * 100\n",
    "            if percent >= percent_max:\n",
    "                percent_max = percent\n",
    "                col = name\n",
    "                best_df = temp_df[name]\n",
    "\n",
    "            #print(eval_result)\n",
    "            print(f'Accuracy for validation of {name} is {percent}%')\n",
    "\n",
    "    best_df_cands = pd.DataFrame()\n",
    "    for idx in range(1,len(rankDF.columns)+1):\n",
    "        temp_df = subset_selection(rankDF, idx)\n",
    "        for name in temp_df.columns.tolist():\n",
    "            df = pd.DataFrame({'QuestionId':temp_df[name].index,'ranking':temp_df[name].values})\n",
    "            eval_result = evaluate(eval_validation, df)\n",
    "            truth_preference = evaluate_truth(eval_validation)\n",
    "\n",
    "            wrong_num = 0\n",
    "            for i, score in enumerate(truth_preference):\n",
    "                if truth_preference[i] != eval_result[i]:\n",
    "                    wrong_num = wrong_num + 1\n",
    "            percent = (len(truth_preference)-wrong_num)/len(truth_preference) * 100\n",
    "            if percent == percent_max:\n",
    "                best_df_cands[name] = temp_df[name]\n",
    "            \n",
    "    return best_df_cands, df_subsets    # best_df_cands give highest accuracy features, df_subsets give every subset"
   ]
  },
  {
   "cell_type": "code",
   "execution_count": 27,
   "metadata": {},
   "outputs": [
    {
     "name": "stdout",
     "output_type": "stream",
     "text": [
      "Accuracy for validation of _Selectivity_Rank is 84.0%\n",
      "Accuracy for validation of _CorrectRate_Rank is 76.0%\n",
      "Accuracy for validation of _Difficulty_Rank is 24.0%\n",
      "Accuracy for validation of _Confidence_Rank is 76.0%\n",
      "Accuracy for validation of _Group_Rank is 72.0%\n",
      "Accuracy for validation of _Quiz_Rank is 76.0%\n",
      "Accuracy for validation of _Selectivity_Rank_CorrectRate_Rank is 80.0%\n",
      "Accuracy for validation of _Selectivity_Rank_Difficulty_Rank is 76.0%\n",
      "Accuracy for validation of _Selectivity_Rank_Confidence_Rank is 88.0%\n",
      "Accuracy for validation of _Selectivity_Rank_Group_Rank is 72.0%\n",
      "Accuracy for validation of _Selectivity_Rank_Quiz_Rank is 72.0%\n",
      "Accuracy for validation of _CorrectRate_Rank_Difficulty_Rank is 68.0%\n",
      "Accuracy for validation of _CorrectRate_Rank_Confidence_Rank is 84.0%\n",
      "Accuracy for validation of _CorrectRate_Rank_Group_Rank is 72.0%\n",
      "Accuracy for validation of _CorrectRate_Rank_Quiz_Rank is 72.0%\n",
      "Accuracy for validation of _Difficulty_Rank_Confidence_Rank is 56.00000000000001%\n",
      "Accuracy for validation of _Difficulty_Rank_Group_Rank is 56.00000000000001%\n",
      "Accuracy for validation of _Difficulty_Rank_Quiz_Rank is 60.0%\n",
      "Accuracy for validation of _Confidence_Rank_Group_Rank is 76.0%\n",
      "Accuracy for validation of _Confidence_Rank_Quiz_Rank is 68.0%\n",
      "Accuracy for validation of _Group_Rank_Quiz_Rank is 76.0%\n",
      "Accuracy for validation of _Selectivity_Rank_CorrectRate_Rank_Difficulty_Rank is 84.0%\n",
      "Accuracy for validation of _Selectivity_Rank_CorrectRate_Rank_Confidence_Rank is 88.0%\n",
      "Accuracy for validation of _Selectivity_Rank_CorrectRate_Rank_Group_Rank is 72.0%\n",
      "Accuracy for validation of _Selectivity_Rank_CorrectRate_Rank_Quiz_Rank is 72.0%\n",
      "Accuracy for validation of _Selectivity_Rank_Difficulty_Rank_Confidence_Rank is 84.0%\n",
      "Accuracy for validation of _Selectivity_Rank_Difficulty_Rank_Group_Rank is 76.0%\n",
      "Accuracy for validation of _Selectivity_Rank_Difficulty_Rank_Quiz_Rank is 76.0%\n",
      "Accuracy for validation of _Selectivity_Rank_Confidence_Rank_Group_Rank is 84.0%\n",
      "Accuracy for validation of _Selectivity_Rank_Confidence_Rank_Quiz_Rank is 88.0%\n",
      "Accuracy for validation of _Selectivity_Rank_Group_Rank_Quiz_Rank is 72.0%\n",
      "Accuracy for validation of _CorrectRate_Rank_Difficulty_Rank_Confidence_Rank is 80.0%\n",
      "Accuracy for validation of _CorrectRate_Rank_Difficulty_Rank_Group_Rank is 64.0%\n",
      "Accuracy for validation of _CorrectRate_Rank_Difficulty_Rank_Quiz_Rank is 72.0%\n",
      "Accuracy for validation of _CorrectRate_Rank_Confidence_Rank_Group_Rank is 76.0%\n",
      "Accuracy for validation of _CorrectRate_Rank_Confidence_Rank_Quiz_Rank is 72.0%\n",
      "Accuracy for validation of _CorrectRate_Rank_Group_Rank_Quiz_Rank is 72.0%\n",
      "Accuracy for validation of _Difficulty_Rank_Confidence_Rank_Group_Rank is 68.0%\n",
      "Accuracy for validation of _Difficulty_Rank_Confidence_Rank_Quiz_Rank is 68.0%\n",
      "Accuracy for validation of _Difficulty_Rank_Group_Rank_Quiz_Rank is 64.0%\n",
      "Accuracy for validation of _Confidence_Rank_Group_Rank_Quiz_Rank is 76.0%\n",
      "Accuracy for validation of _Selectivity_Rank_CorrectRate_Rank_Difficulty_Rank_Confidence_Rank is 88.0%\n",
      "Accuracy for validation of _Selectivity_Rank_CorrectRate_Rank_Difficulty_Rank_Group_Rank is 76.0%\n",
      "Accuracy for validation of _Selectivity_Rank_CorrectRate_Rank_Difficulty_Rank_Quiz_Rank is 76.0%\n",
      "Accuracy for validation of _Selectivity_Rank_CorrectRate_Rank_Confidence_Rank_Group_Rank is 76.0%\n",
      "Accuracy for validation of _Selectivity_Rank_CorrectRate_Rank_Confidence_Rank_Quiz_Rank is 76.0%\n",
      "Accuracy for validation of _Selectivity_Rank_CorrectRate_Rank_Group_Rank_Quiz_Rank is 72.0%\n",
      "Accuracy for validation of _Selectivity_Rank_Difficulty_Rank_Confidence_Rank_Group_Rank is 80.0%\n",
      "Accuracy for validation of _Selectivity_Rank_Difficulty_Rank_Confidence_Rank_Quiz_Rank is 84.0%\n",
      "Accuracy for validation of _Selectivity_Rank_Difficulty_Rank_Group_Rank_Quiz_Rank is 68.0%\n",
      "Accuracy for validation of _Selectivity_Rank_Confidence_Rank_Group_Rank_Quiz_Rank is 72.0%\n",
      "Accuracy for validation of _CorrectRate_Rank_Difficulty_Rank_Confidence_Rank_Group_Rank is 80.0%\n",
      "Accuracy for validation of _CorrectRate_Rank_Difficulty_Rank_Confidence_Rank_Quiz_Rank is 88.0%\n",
      "Accuracy for validation of _CorrectRate_Rank_Difficulty_Rank_Group_Rank_Quiz_Rank is 72.0%\n",
      "Accuracy for validation of _CorrectRate_Rank_Confidence_Rank_Group_Rank_Quiz_Rank is 72.0%\n",
      "Accuracy for validation of _Difficulty_Rank_Confidence_Rank_Group_Rank_Quiz_Rank is 72.0%\n",
      "Accuracy for validation of _Selectivity_Rank_CorrectRate_Rank_Difficulty_Rank_Confidence_Rank_Group_Rank is 84.0%\n",
      "Accuracy for validation of _Selectivity_Rank_CorrectRate_Rank_Difficulty_Rank_Confidence_Rank_Quiz_Rank is 88.0%\n",
      "Accuracy for validation of _Selectivity_Rank_CorrectRate_Rank_Difficulty_Rank_Group_Rank_Quiz_Rank is 72.0%\n",
      "Accuracy for validation of _Selectivity_Rank_CorrectRate_Rank_Confidence_Rank_Group_Rank_Quiz_Rank is 72.0%\n",
      "Accuracy for validation of _Selectivity_Rank_Difficulty_Rank_Confidence_Rank_Group_Rank_Quiz_Rank is 84.0%\n",
      "Accuracy for validation of _CorrectRate_Rank_Difficulty_Rank_Confidence_Rank_Group_Rank_Quiz_Rank is 72.0%\n",
      "Accuracy for validation of _Selectivity_Rank_CorrectRate_Rank_Difficulty_Rank_Confidence_Rank_Group_Rank_Quiz_Rank is 76.0%\n"
     ]
    }
   ],
   "source": [
    "eval_validation = pd.read_csv('./data/test_data/quality_response_remapped_public.csv')\n",
    "best_df_cands, df_subsets = find_bestDF(eval_validation)"
   ]
  },
  {
   "attachments": {},
   "cell_type": "markdown",
   "metadata": {},
   "source": [
    "## 12. Show every validation results using each models(models that used each features).\n",
    "### (We can find out there are 6 models showing same highest accuracy, 88% for each)"
   ]
  },
  {
   "cell_type": "code",
   "execution_count": 28,
   "metadata": {},
   "outputs": [
    {
     "data": {
      "image/png": "[encoded data removed]",
      "text/plain": [
       "<Figure size 640x480 with 1 Axes>"
      ]
     },
     "metadata": {},
     "output_type": "display_data"
    },
    {
     "name": "stdout",
     "output_type": "stream",
     "text": [
      "['_Selectivity_Rank', '_CorrectRate_Rank', '_Difficulty_Rank', '_Confidence_Rank', '_Group_Rank', '_Quiz_Rank', '_Selectivity_Rank_CorrectRate_Rank', '_Selectivity_Rank_Difficulty_Rank', '_Selectivity_Rank_Confidence_Rank', '_Selectivity_Rank_Group_Rank', '_Selectivity_Rank_Quiz_Rank', '_CorrectRate_Rank_Difficulty_Rank', '_CorrectRate_Rank_Confidence_Rank', '_CorrectRate_Rank_Group_Rank', '_CorrectRate_Rank_Quiz_Rank', '_Difficulty_Rank_Confidence_Rank', '_Difficulty_Rank_Group_Rank', '_Difficulty_Rank_Quiz_Rank', '_Confidence_Rank_Group_Rank', '_Confidence_Rank_Quiz_Rank', '_Group_Rank_Quiz_Rank', '_Selectivity_Rank_CorrectRate_Rank_Difficulty_Rank', '_Selectivity_Rank_CorrectRate_Rank_Confidence_Rank', '_Selectivity_Rank_CorrectRate_Rank_Group_Rank', '_Selectivity_Rank_CorrectRate_Rank_Quiz_Rank', '_Selectivity_Rank_Difficulty_Rank_Confidence_Rank', '_Selectivity_Rank_Difficulty_Rank_Group_Rank', '_Selectivity_Rank_Difficulty_Rank_Quiz_Rank', '_Selectivity_Rank_Confidence_Rank_Group_Rank', '_Selectivity_Rank_Confidence_Rank_Quiz_Rank', '_Selectivity_Rank_Group_Rank_Quiz_Rank', '_CorrectRate_Rank_Difficulty_Rank_Confidence_Rank', '_CorrectRate_Rank_Difficulty_Rank_Group_Rank', '_CorrectRate_Rank_Difficulty_Rank_Quiz_Rank', '_CorrectRate_Rank_Confidence_Rank_Group_Rank', '_CorrectRate_Rank_Confidence_Rank_Quiz_Rank', '_CorrectRate_Rank_Group_Rank_Quiz_Rank', '_Difficulty_Rank_Confidence_Rank_Group_Rank', '_Difficulty_Rank_Confidence_Rank_Quiz_Rank', '_Difficulty_Rank_Group_Rank_Quiz_Rank', '_Confidence_Rank_Group_Rank_Quiz_Rank', '_Selectivity_Rank_CorrectRate_Rank_Difficulty_Rank_Confidence_Rank', '_Selectivity_Rank_CorrectRate_Rank_Difficulty_Rank_Group_Rank', '_Selectivity_Rank_CorrectRate_Rank_Difficulty_Rank_Quiz_Rank', '_Selectivity_Rank_CorrectRate_Rank_Confidence_Rank_Group_Rank', '_Selectivity_Rank_CorrectRate_Rank_Confidence_Rank_Quiz_Rank', '_Selectivity_Rank_CorrectRate_Rank_Group_Rank_Quiz_Rank', '_Selectivity_Rank_Difficulty_Rank_Confidence_Rank_Group_Rank', '_Selectivity_Rank_Difficulty_Rank_Confidence_Rank_Quiz_Rank', '_Selectivity_Rank_Difficulty_Rank_Group_Rank_Quiz_Rank', '_Selectivity_Rank_Confidence_Rank_Group_Rank_Quiz_Rank', '_CorrectRate_Rank_Difficulty_Rank_Confidence_Rank_Group_Rank', '_CorrectRate_Rank_Difficulty_Rank_Confidence_Rank_Quiz_Rank', '_CorrectRate_Rank_Difficulty_Rank_Group_Rank_Quiz_Rank', '_CorrectRate_Rank_Confidence_Rank_Group_Rank_Quiz_Rank', '_Difficulty_Rank_Confidence_Rank_Group_Rank_Quiz_Rank', '_Selectivity_Rank_CorrectRate_Rank_Difficulty_Rank_Confidence_Rank_Group_Rank', '_Selectivity_Rank_CorrectRate_Rank_Difficulty_Rank_Confidence_Rank_Quiz_Rank', '_Selectivity_Rank_CorrectRate_Rank_Difficulty_Rank_Group_Rank_Quiz_Rank', '_Selectivity_Rank_CorrectRate_Rank_Confidence_Rank_Group_Rank_Quiz_Rank', '_Selectivity_Rank_Difficulty_Rank_Confidence_Rank_Group_Rank_Quiz_Rank', '_CorrectRate_Rank_Difficulty_Rank_Confidence_Rank_Group_Rank_Quiz_Rank', '_Selectivity_Rank_CorrectRate_Rank_Difficulty_Rank_Confidence_Rank_Group_Rank_Quiz_Rank']\n",
      "[84.0, 76.0, 24.0, 76.0, 72.0, 76.0, 80.0, 76.0, 88.0, 72.0, 72.0, 68.0, 84.0, 72.0, 72.0, 56.00000000000001, 56.00000000000001, 60.0, 76.0, 68.0, 76.0, 84.0, 88.0, 72.0, 72.0, 84.0, 76.0, 76.0, 84.0, 88.0, 72.0, 80.0, 64.0, 72.0, 76.0, 72.0, 72.0, 68.0, 68.0, 64.0, 76.0, 88.0, 76.0, 76.0, 76.0, 76.0, 72.0, 80.0, 84.0, 68.0, 72.0, 80.0, 88.0, 72.0, 72.0, 72.0, 84.0, 88.0, 72.0, 72.0, 84.0, 72.0, 76.0]\n"
     ]
    }
   ],
   "source": [
    "X=[]\n",
    "Y=[]\n",
    "for idx in df_subsets:\n",
    "    model = df_subsets[idx]\n",
    "    model = pd.DataFrame({'QuestionId':model.index,'ranking':model.values})\n",
    "    eval_result = evaluate(eval_validation, model)\n",
    "    truth_preference = evaluate_truth(eval_validation)\n",
    "\n",
    "    wrong_num = 0\n",
    "    for i, score in enumerate(truth_preference):\n",
    "        if truth_preference[i] != eval_result[i]:\n",
    "            wrong_num = wrong_num + 1\n",
    "    percent = (len(truth_preference)-wrong_num)/len(truth_preference) * 100\n",
    "    X.append(idx)\n",
    "    Y.append(percent)\n",
    "    #print(eval_result)\n",
    "\n",
    "plt.bar(X,Y)\n",
    "plt.xticks(X, rotation='vertical')\n",
    "plt.tick_params(axis='x', direction='in', length=3, pad=6, labelsize=5, top=True)\n",
    "plt.grid(axis='y')\n",
    "plt.yticks(range(0,100,5))\n",
    "plt.tick_params(axis='y', direction='inout', length=10, labelsize=8,pad=15, width=2, color='r')\n",
    "plt.show()\n",
    "print(X)\n",
    "print(Y)\n"
   ]
  },
  {
   "attachments": {},
   "cell_type": "markdown",
   "metadata": {},
   "source": [
    "## 13. Show every test results that using models showed highest accuracy of validation result."
   ]
  },
  {
   "cell_type": "code",
   "execution_count": 29,
   "metadata": {},
   "outputs": [
    {
     "name": "stdout",
     "output_type": "stream",
     "text": [
      "Accuracy for test with model _Selectivity_Rank_Confidence_Rank is 76.0%\n",
      "Accuracy for test with model _Selectivity_Rank_CorrectRate_Rank_Confidence_Rank is 76.0%\n",
      "Accuracy for test with model _Selectivity_Rank_Confidence_Rank_Quiz_Rank is 76.0%\n",
      "Accuracy for test with model _Selectivity_Rank_CorrectRate_Rank_Difficulty_Rank_Confidence_Rank is 72.0%\n",
      "Accuracy for test with model _CorrectRate_Rank_Difficulty_Rank_Confidence_Rank_Quiz_Rank is 56.00000000000001%\n",
      "Accuracy for test with model _Selectivity_Rank_CorrectRate_Rank_Difficulty_Rank_Confidence_Rank_Quiz_Rank is 68.0%\n"
     ]
    },
    {
     "data": {
      "image/png": "[encoded data removed]",
      "text/plain": [
       "<Figure size 640x480 with 1 Axes>"
      ]
     },
     "metadata": {},
     "output_type": "display_data"
    }
   ],
   "source": [
    "eval_test = pd.read_csv('./data/test_data/quality_response_remapped_private.csv')\n",
    "\n",
    "X=[]\n",
    "Y=[]\n",
    "for idx in best_df_cands:\n",
    "    model=best_df_cands[idx]\n",
    "    model = pd.DataFrame({'QuestionId':model.index,'ranking':model.values})\n",
    "    eval_result = evaluate(eval_test, model)\n",
    "    truth_preference = evaluate_truth(eval_test)\n",
    "\n",
    "    wrong_num = 0\n",
    "    for i, score in enumerate(truth_preference):\n",
    "        if truth_preference[i] != eval_result[i]:\n",
    "            wrong_num = wrong_num + 1\n",
    "    percent = (len(truth_preference)-wrong_num)/len(truth_preference) * 100\n",
    "    X.append(idx)\n",
    "    Y.append(percent)\n",
    "\n",
    "    #print(eval_result)\n",
    "    print(f'Accuracy for test with model {idx} is {percent}%')\n",
    "\n",
    "plt.bar(X,Y)\n",
    "plt.xticks(X, rotation=90)\n",
    "plt.tick_params(axis='x', direction='in', length=3, pad=6, top=True)\n",
    "plt.grid(axis='y')\n",
    "plt.yticks(range(0,100,5))\n",
    "plt.tick_params(axis='y', direction='inout', length=10, labelsize=8,pad=15, width=2, color='r')\n",
    "plt.show()"
   ]
  },
  {
   "attachments": {},
   "cell_type": "markdown",
   "metadata": {},
   "source": [
    "## 14. Save Rank(Rank that we got by using '_Selectivity_Rank_Confidence_Rank_Quiz_Rank' features)"
   ]
  },
  {
   "cell_type": "code",
   "execution_count": 30,
   "metadata": {},
   "outputs": [],
   "source": [
    "template = pd.read_csv('./submission/template.csv')\n",
    "template['ranking']=best_df_cands['_Selectivity_Rank_Confidence_Rank_Quiz_Rank']\n",
    "template.to_csv('./submission/20170502.csv', index=False)"
   ]
  },
  {
   "attachments": {},
   "cell_type": "markdown",
   "metadata": {},
   "source": [
    "## 15. Evaluation(Test)"
   ]
  },
  {
   "cell_type": "code",
   "execution_count": 31,
   "metadata": {},
   "outputs": [
    {
     "name": "stdout",
     "output_type": "stream",
     "text": [
      "Accuracy for test is 76.0%\n"
     ]
    }
   ],
   "source": [
    "# load evaluators' score on \"validation\" set\n",
    "#https://competitions.codalab.org/forums/22145/4564/\n",
    "eval_test = pd.read_csv('./data/test_data/quality_response_remapped_private.csv')\n",
    "\n",
    "model = pd.read_csv('./submission/20170502.csv')\n",
    "# df = pd.DataFrame({'QuestionId':temp_df.index,'ranking':temp_df.values})\n",
    "# df['QuestionId'] = bestDF.index\n",
    "# df['ranking'] = bestDF.values\n",
    "eval_result = evaluate(eval_test, model)\n",
    "truth_preference = evaluate_truth(eval_test)\n",
    "\n",
    "wrong_num = 0\n",
    "for i, score in enumerate(truth_preference):\n",
    "    if truth_preference[i] != eval_result[i]:\n",
    "        wrong_num = wrong_num + 1\n",
    "percent = (len(truth_preference)-wrong_num)/len(truth_preference) * 100\n",
    "\n",
    "#print(eval_result)\n",
    "print(f'Accuracy for test is {percent}%')\n"
   ]
  }
 ],
 "metadata": {
  "kernelspec": {
   "display_name": "mediapipe",
   "language": "python",
   "name": "python3"
  },
  "language_info": {
   "codemirror_mode": {
    "name": "ipython",
    "version": 3
   },
   "file_extension": ".py",
   "mimetype": "text/x-python",
   "name": "python",
   "nbconvert_exporter": "python",
   "pygments_lexer": "ipython3",
   "version": "3.10.9"
  },
  "orig_nbformat": 4
 },
 "nbformat": 4,
 "nbformat_minor": 2
}
